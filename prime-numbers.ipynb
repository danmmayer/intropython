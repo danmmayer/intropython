{
 "cells": [
  {
   "cell_type": "markdown",
   "metadata": {},
   "source": [
    "Exercise 11: Ask the user for a number and determine whether the number is prime or not."
   ]
  },
  {
   "cell_type": "code",
   "execution_count": null,
   "metadata": {},
   "outputs": [
    {
     "name": "stdout",
     "output_type": "stream",
     "text": [
      "Enter a number to check if it is prime or not: 955\n",
      "955 is NOT a prime number\n",
      "Enter a number to check if it is prime or not: 7\n",
      "7 is a prime number\n"
     ]
    }
   ],
   "source": [
    "def user_input (help_text=\"Enter a number to check if it is prime or not: \"): #user input function\n",
    "    return int(input(help_text))\n",
    "\n",
    "number = user_input()\n",
    "\n",
    "def prime_check(number): #Function that returns TRUE for prime, FALSE otherwise\n",
    "    \n",
    "    if number == 1:\n",
    "        prime = False #edge case 1\n",
    "    if number == 2:\n",
    "        prime = True #edge case 2\n",
    "    else:    \n",
    "        prime = True\n",
    "        \n",
    "    for x in range (2, number - 1): #check whether prime should be True/False for the inputted number\n",
    "        if number % x == 0: \n",
    "            prime = False\n",
    "            break\n",
    "    return prime\n",
    "\n",
    "\n",
    "def print_prime(number): #function that gives the user their result\n",
    "    prime = prime_check(number) #call prime_check to get a True/False result\n",
    "    if prime == True:\n",
    "        print(number, \"is a prime number\")\n",
    "    if prime == False:\n",
    "        print(number, \"is NOT a prime number\")\n",
    "print_prime(number)  \n",
    "    \n",
    "while True: #Run a loop to check another number\n",
    "    print_prime(user_input())"
   ]
  },
  {
   "cell_type": "code",
   "execution_count": null,
   "metadata": {},
   "outputs": [],
   "source": []
  }
 ],
 "metadata": {
  "kernelspec": {
   "display_name": "Python 3",
   "language": "python",
   "name": "python3"
  },
  "language_info": {
   "codemirror_mode": {
    "name": "ipython",
    "version": 3
   },
   "file_extension": ".py",
   "mimetype": "text/x-python",
   "name": "python",
   "nbconvert_exporter": "python",
   "pygments_lexer": "ipython3",
   "version": "3.7.6"
  }
 },
 "nbformat": 4,
 "nbformat_minor": 4
}
