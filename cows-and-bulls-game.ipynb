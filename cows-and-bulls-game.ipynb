{
 "cells": [
  {
   "cell_type": "markdown",
   "metadata": {},
   "source": [
    "Exercise 18: Cows and Bulls\n",
    "\n",
    "Create a program that will play the “cows and bulls” game with the user. The game works like this:\n",
    "\n",
    "Randomly generate a 4-digit number. Ask the user to guess a 4-digit number. For every digit that the user guessed correctly in the correct place, they have a “cow”. For every digit the user guessed correctly in the wrong place is a “bull.” Every time the user makes a guess, tell them how many “cows” and “bulls” they have. Once the user guesses the correct number, the game is over. Keep track of the number of guesses the user makes throughout the game and tell the user at the end"
   ]
  },
  {
   "cell_type": "code",
   "execution_count": 1,
   "metadata": {},
   "outputs": [
    {
     "name": "stdout",
     "output_type": "stream",
     "text": [
      "7435\n",
      "Guess a 4 digit number: 7689\n",
      "You have 1 cows, 0 bulls.\n",
      "Wrong. Try again.\n",
      "Guess a 4 digit number: 7654\n",
      "You have 1 cows, 2 bulls.\n",
      "Wrong. Try again.\n",
      "Guess a 4 digit number: 7453\n",
      "You have 2 cows, 2 bulls.\n",
      "Wrong. Try again.\n",
      "Guess a 4 digit number: 7435\n",
      "You have 4 cows, 0 bulls.\n",
      "You guessed the number correctly after 4 guesses!\n"
     ]
    }
   ],
   "source": [
    "import random\n",
    "\n",
    "def compare(number, guess): #function that compares the random number and the guess\n",
    "    str(number) #convert int to str for manipulation\n",
    "    str(guess)\n",
    "    number_digits=[int(digit) for digit in str(number)] #break integer into individual digits in a list\n",
    "    guess_digits=[int(digit) for digit in str(guess)]\n",
    "    \n",
    "    cowbull = [0,0] #default starting point, cows = cowbull[0] and bulls = cowbull[1]\n",
    "    \n",
    "    for i in range (0,4): #go through and evaluate each digit one at a time\n",
    "        if guess_digits[i] == number_digits[i]: #cow criteria\n",
    "            cowbull[0] += 1\n",
    "        elif guess_digits[i] != number_digits[i] and guess_digits[i] in number_digits: #bull criteria\n",
    "            cowbull[1] += 1\n",
    "            \n",
    "    return cowbull\n",
    "\n",
    "\n",
    "if __name__==\"__main__\":\n",
    "    number = random.randint(1000,9999) #random integer generation\n",
    "    total_guesses = 0 #start guess count at 0\n",
    "    print(number) #for testing purposes, show me what the random number is\n",
    "\n",
    "while True: #loop allows user to continue to guess until they are correct\n",
    "    guess = (input(\"Guess a 4 digit number: \"))\n",
    "    \n",
    "    if int(guess) < 1000: #edge case\n",
    "        print(\"Invalid entry. Must be a 4 digit number.\")\n",
    "        break\n",
    "    if guess == 'exit': #option to leave the game\n",
    "        print(\"Sayonara!\")\n",
    "        break\n",
    "\n",
    "    cowbullcount = compare(number,guess) #Assign the function to a variable called 'cowbullcount'\n",
    "    total_guesses += 1 #ensure that each time, the count of guesses increases by 1    \n",
    "    print(\"You have\", cowbullcount[0], \"cows,\", cowbullcount[1], \"bulls.\") #user feedback presented for each guess\n",
    "    \n",
    "    if cowbullcount[0] == 4: #end the game when all 4 digits are correct\n",
    "        print(\"You guessed the number correctly after\", total_guesses, \"guesses!\")\n",
    "        break\n",
    "    else:\n",
    "        print(\"Wrong. Try again.\")"
   ]
  },
  {
   "cell_type": "code",
   "execution_count": null,
   "metadata": {},
   "outputs": [],
   "source": []
  }
 ],
 "metadata": {
  "kernelspec": {
   "display_name": "Python 3",
   "language": "python",
   "name": "python3"
  },
  "language_info": {
   "codemirror_mode": {
    "name": "ipython",
    "version": 3
   },
   "file_extension": ".py",
   "mimetype": "text/x-python",
   "name": "python",
   "nbconvert_exporter": "python",
   "pygments_lexer": "ipython3",
   "version": "3.7.6"
  }
 },
 "nbformat": 4,
 "nbformat_minor": 4
}
