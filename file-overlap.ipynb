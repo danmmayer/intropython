{
 "cells": [
  {
   "cell_type": "markdown",
   "metadata": {},
   "source": [
    "Exercise 23: File Overlap\n",
    "\n",
    "Given two .txt files that have lists of numbers in them, find the numbers that are overlapping. One .txt file has a list of all prime numbers under 1000, and the other .txt file has a list of happy numbers up to 1000."
   ]
  },
  {
   "cell_type": "code",
   "execution_count": 1,
   "metadata": {},
   "outputs": [
    {
     "name": "stdout",
     "output_type": "stream",
     "text": [
      "['7', '13', '19', '23', '31', '79', '97', '103', '109', '139', '167', '193', '239', '263', '293', '313', '331', '367', '379', '383', '397', '409', '487', '563', '617', '653', '673', '683', '709', '739', '761', '863', '881', '907', '937']\n"
     ]
    }
   ],
   "source": [
    "with open (r'C:\\Users\\danie\\Desktop\\primenumbers.txt', 'r') as open_file:\n",
    "    prime_line = open_file.readline() #look line by line\n",
    "    prime = [] #start with a blank list that will be appended\n",
    "    \n",
    "    while prime_line:\n",
    "        prime_line = prime_line.strip() #strip all the white space\n",
    "        int(prime_line)\n",
    "        prime.append(prime_line)\n",
    "        prime_line = open_file.readline() #look at the next line   \n",
    "        \n",
    "with open (r'C:\\Users\\danie\\Desktop\\happynumbers.txt', 'r') as open_file:\n",
    "    happy_line = open_file.readline() \n",
    "    happy = []\n",
    "\n",
    "    while happy_line:\n",
    "        happy_line = happy_line.strip() \n",
    "        int(happy_line)\n",
    "        happy.append(happy_line)\n",
    "        happy_line = open_file.readline() \n",
    "\n",
    "overlap = [i for i in prime if i in happy] #create a new list with the overlapping numbers\n",
    "\n",
    "print(overlap)"
   ]
  },
  {
   "cell_type": "code",
   "execution_count": null,
   "metadata": {},
   "outputs": [],
   "source": []
  }
 ],
 "metadata": {
  "kernelspec": {
   "display_name": "Python 3",
   "language": "python",
   "name": "python3"
  },
  "language_info": {
   "codemirror_mode": {
    "name": "ipython",
    "version": 3
   },
   "file_extension": ".py",
   "mimetype": "text/x-python",
   "name": "python",
   "nbconvert_exporter": "python",
   "pygments_lexer": "ipython3",
   "version": "3.7.6"
  }
 },
 "nbformat": 4,
 "nbformat_minor": 4
}
