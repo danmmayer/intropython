{
 "cells": [
  {
   "cell_type": "markdown",
   "metadata": {},
   "source": [
    "Exercise 8: Two Player Rock-Paper-Scissors\n",
    "\n",
    "Make a two-player Rock-Paper-Scissors game. Ask for player plays (using input), compare them, print out a message of congratulations to the winner, and ask if the players want to start a new game"
   ]
  },
  {
   "cell_type": "code",
   "execution_count": null,
   "metadata": {},
   "outputs": [
    {
     "name": "stdout",
     "output_type": "stream",
     "text": [
      "Let's play rock, paper, scissors! Choose one\n",
      "Player 1, make your pick: rock\n",
      "Player 2, make your pick: paper\n",
      "Player 2 wins!\n"
     ]
    }
   ],
   "source": [
    "import sys\n",
    "\n",
    "print(\"Let's play rock, paper, scissors! Choose one\")\n",
    "\n",
    "while True:\n",
    "    player1 = str(input(\"Player 1, make your pick: \"))\n",
    "    player2 = str(input(\"Player 2, make your pick: \"))\n",
    "\n",
    "#create a dictionary to convert each value to number\n",
    "    game_dict = {'rock':1, 'paper':2, 'scissors':3}\n",
    "\n",
    "    score1 = game_dict.get(player1)\n",
    "    score2 = game_dict.get(player2)\n",
    "    difference = score1 - score2\n",
    "   \n",
    "    if difference in(1,-2):\n",
    "        print(\"Player 1 wins!\")\n",
    "        if str(input(\"Do you want to play again?\")) == \"Yes\" or \"yes\":\n",
    "            continue\n",
    "        else:\n",
    "            print(\"Game over\")\n",
    "            break\n",
    "                \n",
    "    elif difference in(-1,2):\n",
    "        print(\"Player 2 wins!\")\n",
    "        if str(input(\"Do you want to play again? \")) == \"Yes\" or \"yes\":\n",
    "            continue\n",
    "        else:\n",
    "            print(\"Game over\")\n",
    "            break\n",
    "        \n",
    "    elif difference == 0:\n",
    "        print(\"It's a tie\")\n",
    "        \n",
    "    else:\n",
    "        print(\"You didn't make an available choice!\")"
   ]
  },
  {
   "cell_type": "code",
   "execution_count": null,
   "metadata": {},
   "outputs": [],
   "source": []
  }
 ],
 "metadata": {
  "kernelspec": {
   "display_name": "Python 3",
   "language": "python",
   "name": "python3"
  },
  "language_info": {
   "codemirror_mode": {
    "name": "ipython",
    "version": 3
   },
   "file_extension": ".py",
   "mimetype": "text/x-python",
   "name": "python",
   "nbconvert_exporter": "python",
   "pygments_lexer": "ipython3",
   "version": "3.7.6"
  }
 },
 "nbformat": 4,
 "nbformat_minor": 4
}
