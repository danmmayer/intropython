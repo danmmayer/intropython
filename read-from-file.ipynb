{
 "cells": [
  {
   "cell_type": "markdown",
   "metadata": {},
   "source": [
    "Exercise 22 (Part 2): take this file http://www.practicepython.org/assets/Training_01.txt, and count how many of each “category” of each image there are"
   ]
  },
  {
   "cell_type": "code",
   "execution_count": null,
   "metadata": {},
   "outputs": [],
   "source": [
    "with open (r'C:\\Users\\danie\\Desktop\\Training_01.txt', 'r') as open_file:\n",
    "    line = open_file.readline()\n",
    "    count_dict = {}\n",
    "\n",
    "    while line:\n",
    "        line = line[3:-26] #only look at a certain portion of each line\n",
    "        if line in count_dict:\n",
    "            count_dict[line] += 1\n",
    "        else: count_dict[line] = 1\n",
    "        line = open_file.readline() #go to the next line and do the same thing\n",
    "\n",
    "    print(count_dict)"
   ]
  },
  {
   "cell_type": "code",
   "execution_count": null,
   "metadata": {},
   "outputs": [],
   "source": []
  }
 ],
 "metadata": {
  "kernelspec": {
   "display_name": "Python 3",
   "language": "python",
   "name": "python3"
  },
  "language_info": {
   "codemirror_mode": {
    "name": "ipython",
    "version": 3
   },
   "file_extension": ".py",
   "mimetype": "text/x-python",
   "name": "python",
   "nbconvert_exporter": "python",
   "pygments_lexer": "ipython3",
   "version": "3.7.6"
  }
 },
 "nbformat": 4,
 "nbformat_minor": 4
}
