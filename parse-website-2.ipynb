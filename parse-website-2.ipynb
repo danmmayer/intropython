{
 "cells": [
  {
   "cell_type": "markdown",
   "metadata": {},
   "source": [
    "Exercise 19: Decode a webpage part 2\n",
    "\n",
    "Using the requests and BeautifulSoup Python libraries, print to the screen the full text of the article on this website: http://www.vanityfair.com/society/2014/06/monica-lewinsky-humiliation-culture.\n",
    "\n",
    "The article is long, so it is split up between 4 pages. Your task is to print out the text to the screen so that you can read the full article without having to click any buttons."
   ]
  },
  {
   "cell_type": "code",
   "execution_count": null,
   "metadata": {},
   "outputs": [],
   "source": [
    "import requests\n",
    "from bs4 import BeautifulSoup\n",
    "\n",
    "url = 'https://www.vanityfair.com/style/society/2014/06/monica-lewinsky-humiliation-culture'\n",
    "r = requests.get(url)\n",
    "r_html = r.text\n",
    "\n",
    "soup = BeautifulSoup(r_html)\n",
    "content = soup.find_all('p') #grab all the text within <p> tags\n",
    "\n",
    "with open('lewinsky.txt', 'w') as open_file: #write to a text file\n",
    "    for text in content:\n",
    "        if text.string != None and text.get('class') != 'content-header__row content-header__dek':\n",
    "            open_file.write(text.string)\n",
    "        \n",
    "file = open(\"lewinsky.txt\",'r') #To read the file that you created    \n",
    "contents = file.read()\n",
    "print(contents)"
   ]
  }
 ],
 "metadata": {
  "kernelspec": {
   "display_name": "Python 3",
   "language": "python",
   "name": "python3"
  },
  "language_info": {
   "codemirror_mode": {
    "name": "ipython",
    "version": 3
   },
   "file_extension": ".py",
   "mimetype": "text/x-python",
   "name": "python",
   "nbconvert_exporter": "python",
   "pygments_lexer": "ipython3",
   "version": "3.7.6"
  }
 },
 "nbformat": 4,
 "nbformat_minor": 4
}
