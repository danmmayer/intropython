{
 "cells": [
  {
   "cell_type": "markdown",
   "metadata": {},
   "source": [
    "Exercise 25: Guessing Game Two\n",
    "\n",
    "You, the user, will have in your head a number between 0 and 100. The program will guess a number, and you, the user, will say whether it is too high, too low, or your number.\n",
    "\n",
    "At the end of this exchange, your program should print out how many guesses it took to get your number."
   ]
  },
  {
   "cell_type": "code",
   "execution_count": 1,
   "metadata": {},
   "outputs": [
    {
     "name": "stdout",
     "output_type": "stream",
     "text": [
      "You will have in your head a number between 0 and 100. The program will guess a number, and you, the user, will say whether it is too high, too low, or your number.\n",
      "\n",
      " My guess is 50\n",
      "\n",
      " higher, lower, or correct? lower\n",
      "\n",
      " My guess is 24\n",
      "\n",
      " higher, lower, or correct? lower\n",
      "\n",
      " My guess is 11\n",
      "\n",
      " higher, lower, or correct? lower\n",
      "\n",
      " My guess is 5\n",
      "\n",
      " higher, lower, or correct? higher\n",
      "\n",
      " My guess is 8\n",
      "\n",
      " higher, lower, or correct? lower\n",
      "\n",
      " My guess is 6\n",
      "\n",
      " higher, lower, or correct? correct\n",
      "\n",
      " The AI guessed the number in 6 guesses.\n"
     ]
    }
   ],
   "source": [
    "minimum = 0\n",
    "maximum = 100\n",
    "count = 0\n",
    "\n",
    "print(\"You will have in your head a number between 0 and 100. The program will guess a number, and you, the user, will say whether it is too high, too low, or your number.\")\n",
    "\n",
    "while minimum <= maximum:\n",
    "    count += 1\n",
    "    median = int(minimum + (maximum - minimum) / 2) #define the list median\n",
    "    guess = median #the AI will always guess the median, as per binary search\n",
    "    print('\\n My guess is', guess)\n",
    "    \n",
    "    feedback = input(\"\\n higher, lower, or correct? \") #user provides feedback\n",
    "    \n",
    "    if feedback == 'correct':\n",
    "        print(\"\\n The AI guessed the number in\", count, \"guesses.\")\n",
    "        break\n",
    "    elif feedback == 'higher':\n",
    "        minimum = guess + 1 #if guess was too low, create new minimum value for the next guess\n",
    "    elif feedback == 'lower':\n",
    "        maximum = guess - 1 #if guess was too high create new maximum value for the next guess\n",
    "    elif minimum == maximum: \n",
    "        print(\"You are not being honest.\")"
   ]
  },
  {
   "cell_type": "code",
   "execution_count": null,
   "metadata": {},
   "outputs": [],
   "source": []
  }
 ],
 "metadata": {
  "kernelspec": {
   "display_name": "Python 3",
   "language": "python",
   "name": "python3"
  },
  "language_info": {
   "codemirror_mode": {
    "name": "ipython",
    "version": 3
   },
   "file_extension": ".py",
   "mimetype": "text/x-python",
   "name": "python",
   "nbconvert_exporter": "python",
   "pygments_lexer": "ipython3",
   "version": "3.7.6"
  }
 },
 "nbformat": 4,
 "nbformat_minor": 4
}
