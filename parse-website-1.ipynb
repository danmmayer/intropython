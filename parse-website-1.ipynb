{
 "cells": [
  {
   "cell_type": "markdown",
   "metadata": {},
   "source": [
    "Exercise 17: Use the BeautifulSoup and requests Python packages to print out a list of all the article titles on the New York Times homepage.\n",
    "\n",
    "Essentially we're looking to consume the HTML of the homepage and read it to extract titles.\n",
    "The \"requests' library is used to ask a server for information. This could be data through an API, or in this case HTML\n",
    "\n",
    "To read and parse the HTML once captured as a string, you use BeautifulSoup. BeautifulSoup interprets HTML heirarchically so you can tell it to find text based on tags and elements.\n",
    "\n",
    "Tip: right click the part of the webpage that is of interest and click Inspect Element. Use a nearby HTML or CSS tag as the argument for the find_all command"
   ]
  },
  {
   "cell_type": "code",
   "execution_count": 1,
   "metadata": {},
   "outputs": [
    {
     "name": "stdout",
     "output_type": "stream",
     "text": [
      "Your Weekend Briefing\n",
      "Listen to ‘The Sunday Read’\n",
      "Sign Up: ‘Watching’\n",
      "Why the Road to Reopening New York Will Be So Hard\n",
      "A ‘Very, Very Messy’ Process: How Pandemics End\n",
      "Global: China Reports Flare-Up in Coronavirus Infections Near Russian Border\n",
      " \n",
      "U.S.: 3 Top Health Officials, Including Fauci, Will Quarantine After Virus Exposure\n",
      "New York: Three Children Have Died of a Mysterious Syndrome Linked to the Coronavirus\n",
      "In an Iowa Meat Plant, a Battle Against Coronavirus\n",
      "Paid leave law is supposed to help millions in a crisis. Many people haven’t heard of it.\n",
      "Union garment workers are fearing ‘an opportunity to get rid of us.’\n",
      "Virus Conspiracists Elevate a New Champion\n",
      "How Many Have Died? For Some on the Right, It’s Politics, Not Science\n",
      "How Motherhood Changed My...\n",
      "Pregnant in a Pandemic? These 5 Mothers of Newborns Have Advice\n",
      "11 of Our Best Weekend Reads\n",
      "Did you follow the headlines this week? Take our news quiz.\n",
      "A Former Farmworker on American Hypocrisy\n",
      "What We Lose When We Go From the Classroom to Zoom\n",
      "After 4 Years of Silence, a Call to Mom on Mother’s Day\n",
      "True Justice for Ahmaud Arbery\n",
      "Live and Let Die, Trump-Style\n",
      "Hillary Never Married Bill\n",
      "William Barr’s Perversion of Justice\n",
      "Little Richard’s Queer Triumph\n",
      "McDonald’s Workers in Denmark Pity Us\n",
      "A Mother’s Strength\n",
      "10 Films to Watch With Mom\n",
      "Bangkok Opens Up, and Pretty Pups Benefit\n",
      "‘S.N.L.’ Salutes Mothers as Baldwin’s Trump Gives Advice to Graduates\n",
      "Review: An Epic Storm Turns a Summer Holiday Into Potent Allegory\n",
      "Site Index\n",
      "Site Information Navigation\n"
     ]
    }
   ],
   "source": [
    "import requests\n",
    "\n",
    "nytimes = requests.get('http://nytimes.com') \n",
    "nytimes_html = nytimes.text #grab all the html text from the website as a string\n",
    "\n",
    "from bs4 import BeautifulSoup\n",
    "\n",
    "soup=BeautifulSoup(nytimes_html,\"html.parser\") #Establish the \"soup\" we are sampling from\n",
    "type(soup) #inspect the type of an unknown object\n",
    "soup.text #prints the text without HTML tags\n",
    "\n",
    "soup.find_all('h2') #find all text between h2 tags\n",
    "\n",
    "for title in soup.find_all('h2'): #extract get each title on its own line\n",
    "    print(title.get_text()) #get_text() removes all the tags and just leaves the text"
   ]
  },
  {
   "cell_type": "code",
   "execution_count": null,
   "metadata": {},
   "outputs": [],
   "source": []
  }
 ],
 "metadata": {
  "kernelspec": {
   "display_name": "Python 3",
   "language": "python",
   "name": "python3"
  },
  "language_info": {
   "codemirror_mode": {
    "name": "ipython",
    "version": 3
   },
   "file_extension": ".py",
   "mimetype": "text/x-python",
   "name": "python",
   "nbconvert_exporter": "python",
   "pygments_lexer": "ipython3",
   "version": "3.7.6"
  }
 },
 "nbformat": 4,
 "nbformat_minor": 4
}
