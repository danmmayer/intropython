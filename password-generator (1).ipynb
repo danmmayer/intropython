{
 "cells": [
  {
   "cell_type": "markdown",
   "metadata": {},
   "source": [
    "Exercise 16: Write a password generator in Python. \n",
    "\n",
    "Be creative with how you generate passwords - strong passwords have a mix of lowercase letters, uppercase letters, numbers, and symbols. The passwords should be random, generating a new password every time the user asks for a new password. Include your run-time code in a main method."
   ]
  },
  {
   "cell_type": "code",
   "execution_count": 1,
   "metadata": {},
   "outputs": [
    {
     "name": "stdout",
     "output_type": "stream",
     "text": [
      "How many characters do you want in your password? 15\n",
      ".v@sLSBeQ|(_HVX\n"
     ]
    }
   ],
   "source": [
    "import random\n",
    "import string\n",
    "\n",
    "def password(size): #function that generates a random password. Can specify letters, numbers, symbols\n",
    " \n",
    "    letters = string.ascii_letters\n",
    "    numbers = string.digits\n",
    "    symbols = string.punctuation\n",
    "    complexity = letters + numbers + symbols #mix of letters, numbers, symbols\n",
    "    \n",
    "    pw_let = (''.join(random.choice(letters) for i in range(size)) )\n",
    "    pw_num = (''.join(random.choice(numbers) for i in range(size)) )\n",
    "    pw_sym = (''.join(random.choice(symbols) for i in range(size)) )\n",
    "    pw_complex = (''.join(random.choice(complexity) for i in range(size)) )\n",
    "    \n",
    "    return pw_complex\n",
    "\n",
    "size = int(input(\"How many characters do you want in your password? \"))\n",
    "print(password(size)) #prints random passwords depending on the number of characters specified"
   ]
  },
  {
   "cell_type": "code",
   "execution_count": null,
   "metadata": {},
   "outputs": [],
   "source": []
  }
 ],
 "metadata": {
  "kernelspec": {
   "display_name": "Python 3",
   "language": "python",
   "name": "python3"
  },
  "language_info": {
   "codemirror_mode": {
    "name": "ipython",
    "version": 3
   },
   "file_extension": ".py",
   "mimetype": "text/x-python",
   "name": "python",
   "nbconvert_exporter": "python",
   "pygments_lexer": "ipython3",
   "version": "3.7.6"
  }
 },
 "nbformat": 4,
 "nbformat_minor": 4
}
