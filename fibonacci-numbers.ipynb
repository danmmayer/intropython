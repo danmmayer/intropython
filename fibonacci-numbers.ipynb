{
 "cells": [
  {
   "cell_type": "markdown",
   "metadata": {},
   "source": [
    "Exercise 13: Fibonacci\n",
    "\n",
    "Write a program that asks the user how many Fibonacci numbers to generate and then generates them. Use functions. Make sure to ask the user to enter the number of numbers in the sequence to generate"
   ]
  },
  {
   "cell_type": "code",
   "execution_count": 1,
   "metadata": {},
   "outputs": [
    {
     "name": "stdout",
     "output_type": "stream",
     "text": [
      "How many Fibonacci numbers do you want? 10\n"
     ]
    },
    {
     "data": {
      "text/plain": [
       "[1, 1, 2, 3, 5, 8, 13, 21, 34, 55, 89]"
      ]
     },
     "execution_count": 1,
     "metadata": {},
     "output_type": "execute_result"
    }
   ],
   "source": [
    "def fib():\n",
    "    n=int(input(\"How many Fibonacci numbers do you want? \")) #number of Fibonacci numbers to display\n",
    "    i=1 #integer starting with 1\n",
    "    if n < 0: #edge case\n",
    "        print(\"Invalid input.\")\n",
    "    elif n == 0: #edge case\n",
    "        seq = []\n",
    "    elif n == 1: #first Fib number\n",
    "        seq = [1]\n",
    "    elif n == 2: #first two Fib numbers\n",
    "        seq = [1,1]\n",
    "    elif n > 2:  \n",
    "        seq = [1,1] \n",
    "        while i < n:\n",
    "            seq.append(seq[i] + seq[i-1]) #number appended to the list will be the sum of list item index [i] and the list item one position to the left of i [i-1]\n",
    "            i = i + 1 #increase i by 1 on each loop until it reaches n\n",
    "    return seq\n",
    "\n",
    "fib()"
   ]
  },
  {
   "cell_type": "code",
   "execution_count": null,
   "metadata": {},
   "outputs": [],
   "source": []
  }
 ],
 "metadata": {
  "kernelspec": {
   "display_name": "Python 3",
   "language": "python",
   "name": "python3"
  },
  "language_info": {
   "codemirror_mode": {
    "name": "ipython",
    "version": 3
   },
   "file_extension": ".py",
   "mimetype": "text/x-python",
   "name": "python",
   "nbconvert_exporter": "python",
   "pygments_lexer": "ipython3",
   "version": "3.7.6"
  }
 },
 "nbformat": 4,
 "nbformat_minor": 4
}
