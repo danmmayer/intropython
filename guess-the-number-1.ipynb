{
 "cells": [
  {
   "cell_type": "markdown",
   "metadata": {},
   "source": [
    "Exercise 9: User Guess The Number\n",
    "Generate a random number between 1 and 9 (including 1 and 9). Ask the user to guess the number, then tell them whether they guessed too low, too high, or exactly right."
   ]
  },
  {
   "cell_type": "code",
   "execution_count": 1,
   "metadata": {},
   "outputs": [
    {
     "name": "stdout",
     "output_type": "stream",
     "text": [
      "Guess a number between 1 and 9, or type 'Exit' to exit: 5\n",
      "Too high.\n",
      "Guess a number between 1 and 9, or type 'Exit' to exit: 3\n",
      "Too high.\n",
      "Guess a number between 1 and 9, or type 'Exit' to exit: 1\n",
      "Exactly right. It only took you 3 tries.\n"
     ]
    }
   ],
   "source": [
    "from random import randint \n",
    "\n",
    "random_number = randint(1,9) #generate a random number\n",
    "\n",
    "\n",
    "user_number = 0 #start user number as 0\n",
    "count = 0 #start guess counter at 0\n",
    "\n",
    "\n",
    "while user_number != random_number and user_number != \"Exit\": #loop so the user can keep guessing until correct\n",
    "    user_number = input(\"Guess a number between 1 and 9, or type 'Exit' to exit: \") #update user_number with guess\n",
    "    \n",
    "    if user_number == \"Exit\" or user_number == \"exit\": #If the user is done playing, break the loop\n",
    "        print(\"Sayonara!\")\n",
    "        break\n",
    "    \n",
    "    user_number = int(user_number) #convert to integer to compare\n",
    "    count = count + 1 #add one to guess count\n",
    "\n",
    "    #Evaluate the input and give the user feedback\n",
    "    \n",
    "    if user_number > random_number:\n",
    "        print(\"Too high.\")\n",
    "    elif user_number < random_number:\n",
    "        print(\"Too low.\")\n",
    "    elif user_number == random_number:\n",
    "        print(\"Exactly right. It only took you\", count, \"tries.\")"
   ]
  },
  {
   "cell_type": "code",
   "execution_count": null,
   "metadata": {},
   "outputs": [],
   "source": []
  }
 ],
 "metadata": {
  "kernelspec": {
   "display_name": "Python 3",
   "language": "python",
   "name": "python3"
  },
  "language_info": {
   "codemirror_mode": {
    "name": "ipython",
    "version": 3
   },
   "file_extension": ".py",
   "mimetype": "text/x-python",
   "name": "python",
   "nbconvert_exporter": "python",
   "pygments_lexer": "ipython3",
   "version": "3.7.6"
  }
 },
 "nbformat": 4,
 "nbformat_minor": 4
}
